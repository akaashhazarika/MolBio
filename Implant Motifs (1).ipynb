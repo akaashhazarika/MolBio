{
 "cells": [
  {
   "cell_type": "code",
   "execution_count": 42,
   "metadata": {},
   "outputs": [
    {
     "data": {
      "text/plain": [
       "10-element Array{Any,1}:\n",
       " \"GACGGGGCAAAAACCAACCAGTAGCTACAAGGTGGGGAGCTCCGCGCTGACGGCATGTAAAGGGCAAAGCTCCCCGAGAACACCCTGGGGAGCTCGCTTC\"\n",
       " \"TAACTCCAGCTTCTTTTCAAACCATGATCTCTCACGGGCGTCCTTTCCCGTATCCGATGAAGGGCGCCGTCCGCTACAAGGCCACGGCGTGTAGACAATG\"\n",
       " \"AACCCGGGCGCCATAACCAGGCTTAAGGGGTCCACACAAGCATACGGCACAGTTTGCCCCTCCCGCAATACCTGACCCCATAGTGGTCTATTGGTTCGAT\"\n",
       " \"AGCGAACAATGTAGGAATCAGACTGCCCCAAGCGAGCATAACGGCTTGTAGAACAAGCAGCAAATTTCTGTACTGCAACCAGGGGGGCTTAAGGGAGCGG\"\n",
       " \"CAATGGGAGTAAGAGGTTAGTAGATCGTTTACAAGCGTAAACCAGGGTAGAGGCCTAGACTGGCGCTACTCAGCACAAGGGCCGACGGCGGATCCTGGAG\"\n",
       " \"TTCCGTAAGGGGAGGAAAGACGTGTGGAGCCGAACCATGCACAGGAAATAACGGCGAGCTAAGCAAGGACAAGTGGCCCGACGCAGGCAATACGGCTCCT\"\n",
       " \"CCAAACGTGGTTTCCCCCTGGCAGAAACCATCGGGCCTACAAGTGCCATTTTCTGCCCCGAAGCTGAGGTTTGGAGTTCGGAAAGGGCCCCAACGGCAAG\"\n",
       " \"TGATCAAGGGCGCTGGCCTGTTGTTTCCTGTTCGTGGTGAACCATGCGCCACAAGTCAACTTGAGGCTCAACGGCTCAAGAGCTCTTACGCGGTAAGAGG\"\n",
       " \"AGTCGCGAGGTGGGCCGCCAAGGGCCATTGACAAGGAGGCGATGGAGATATGCAACCATTATCTTACTGATCAGTGGATGTGGAAACGGCCTAACCTCGA\"\n",
       " \"GAGGGTATAAGGGTCATACACCGATACCCTTGTACGACTAACTAAAGTGGAAGCTGATCAACCATACGCCGGCCGGACAAGGATCACGGCTGCGTCCCGT\""
      ]
     },
     "execution_count": 42,
     "metadata": {},
     "output_type": "execute_result"
    }
   ],
   "source": [
    "using Random\n",
    "function create_artificial_sequence_with_motifs(n,l,motif_length,no_of_motifs,motifs)\n",
    "    \"\"\"\n",
    "    input_params:\n",
    "        n(int) The no of dna sequences to be generated\n",
    "        l(int) The length of each dna sequence\n",
    "        motif_length(int) The length of the motif to be implanted\n",
    "        no_of_motif(int) The no of motifs to be implanted in each dna\n",
    "        motifs(list): The list of motifs to be implanted in each dna sequence\n",
    "    \n",
    "    Returns:\n",
    "        r(list): The n*l dna sequences, having artificially implanted motifs in them. \n",
    "    \n",
    "    \"\"\"\n",
    "    results = []\n",
    "    arr = ['A','C','T','G']\n",
    "    r = []\n",
    "    for i in 1:n\n",
    "        results = []\n",
    "        for k in 1:l-motif_length*no_of_motifs\n",
    "            idx = rand(1:4) \n",
    "            push!(results,arr[idx])\n",
    "        end\n",
    "        results = join(results)\n",
    "        points = Set()\n",
    "        while length(points)!=no_of_motifs\n",
    "            idx = rand(1:length(results))\n",
    "            push!(points,idx)\n",
    "        end\n",
    "        sorted_coor = []\n",
    "        for elem in points\n",
    "            push!(sorted_coor,elem)\n",
    "        end\n",
    "        intial_points = sort(sorted_coor)\n",
    "        final_string = []\n",
    "        past = 1\n",
    "        temp = []\n",
    "        shuffle!(motifs)\n",
    "        for i in 1:no_of_motifs\n",
    "            starts = intial_points[i]\n",
    "            if past!=starts\n",
    "                push!(temp,results[past:starts-1])\n",
    "            end\n",
    "            push!(temp,motifs[i])\n",
    "            past = starts\n",
    "        end\n",
    "        if past<=length(results)\n",
    "            push!(temp,results[past:length(results)])\n",
    "        end\n",
    "        resulting_string = join(temp)\n",
    "        push!(r,resulting_string)\n",
    "    end\n",
    "    return r\n",
    " \n",
    "end\n",
    "\n",
    "\n",
    "input_strings = create_artificial_sequence_with_motifs(10,100,5,4,[\"ACAAG\",\"ACGGC\",\"AACCA\",\"AAGGG\"])"
   ]
  },
  {
   "cell_type": "code",
   "execution_count": 46,
   "metadata": {},
   "outputs": [
    {
     "data": {
      "text/plain": [
       "create_motif (generic function with 1 method)"
      ]
     },
     "execution_count": 46,
     "metadata": {},
     "output_type": "execute_result"
    }
   ],
   "source": [
    "function create_motif(n,l)\n",
    "    arr = ['A','C','T','G']\n",
    "    motifs = []\n",
    "    for i in 1:n\n",
    "        temp = []\n",
    "        for k in 1:l\n",
    "            idx = rand(1:4) \n",
    "            push!(temp,arr[idx])\n",
    "        end\n",
    "        push!(motifs,join(temp))\n",
    "    end\n",
    "    return motifs  \n",
    "end"
   ]
  },
  {
   "cell_type": "code",
   "execution_count": 52,
   "metadata": {},
   "outputs": [
    {
     "data": {
      "text/plain": [
       "create_artificial_sequence (generic function with 1 method)"
      ]
     },
     "execution_count": 52,
     "metadata": {},
     "output_type": "execute_result"
    }
   ],
   "source": [
    "function create_artificial_sequence(N,L,no_of_motifs,length_of_motifs)\n",
    "     motifs = create_motif(no_of_motifs,length_of_motifs)\n",
    "     sequence = create_artificial_sequence_with_motifs(N,L,length_of_motifs,no_of_motifs,motifs)\n",
    "     return motifs,sequence\n",
    "end"
   ]
  },
  {
   "cell_type": "code",
   "execution_count": 55,
   "metadata": {},
   "outputs": [
    {
     "name": "stdout",
     "output_type": "stream",
     "text": [
      "Any[\"GGTT\", \"CTAG\", \"GGTG\", \"CCTT\", \"AGAA\"]\n",
      "Any[\"GAGGAAAGAACGTGGGTTGTTACGGTTTTCCACTACTCAGCCTCGACACCCTGCGGTGTATGGCTAACAGAATAATGACCTCCCCTTCGGACCTAGTCGA\", \"GCGATGCCTTCCTTCGGCGAGAAGACTGGAGTCCGCAAGAATCTAGCCTGATAAAAGTCGGTGCGCTGCCTACAATATAAACGGTTCCGCATCAACTCTA\", \"GGATAGCCTTGAGGACGCGGGGAACTAGACTAGGGAAGGTGGGAAGAGAATTTAACGTGGGTTTACGCGCCTGAAAGTTAACACTTCCCCCGTTTAAAAA\", \"TGGAATATTATCAGAAGCCTGTATAATAAAGTTGCTAGTGTATTACTAGGTGAGGAATGAGGTTCGCATACCTTCCGGGATTCGACAAACTTTCCCTGCG\", \"ACATCTAGTGGACAACCGGGTTAATGGGGATACCAAGTAATCGGGTACGAGTCGCCAATGAGTATCCGAGGTGACCTTTACTGGTTTCAGAAAAAAGTAT\", \"TGTGCATCGAGCACGTGGGGATGCAGTAGCCTTTGACATTTGCGGAACTAGAAGGTTTCCATCGGTGTCAGAAGTTGTACCGGAGTAGTGTCGCGGGTGC\", \"TGGTGCAGGTAGAGGTAGTAACTCCACCAGTCTAGTTGGTTACAGAATCTCGTGTGACCGTTTTCACATGAGACAGGTCCTTTACCTAGGTCTCTAGCCT\", \"TTACGAGTGCTGAAACTACTCTAGGCGATGGGCGAAGGCGGACGAGAAACGGTTTCCGGGGTGGAAAGACGTTCATAATGTCTGCCTTCCCGTTCTGCCT\", \"GGTTTTACGCACCTTTCTCCCGCTGAGTCACAGGGTGGAGGGGAGCGCCATCCTTTGGTTCCGTCGCTTGAGTGTTCGCTAGTACTTAGAGAACTCTCTA\", \"AGTTCTCTCACCGGCTGGTTCATGCAAACTCACTAGGGGTGCAATAGTTACACACGGGTTCCCTTAGCACCATCCAACCCGAAGTTCTTCCAGAACGATC\"]\n"
     ]
    }
   ],
   "source": [
    "implanted_motifs,sequences = create_artificial_sequence(10,100,5,4)\n",
    "print(implanted_motifs,\"\\n\")\n",
    "print(sequences,\"\\n\")"
   ]
  },
  {
   "cell_type": "code",
   "execution_count": null,
   "metadata": {},
   "outputs": [],
   "source": []
  }
 ],
 "metadata": {
  "kernelspec": {
   "display_name": "Julia 1.0.3 (4 threads)",
   "language": "julia",
   "name": "julia-1.0k"
  },
  "language_info": {
   "file_extension": ".jl",
   "mimetype": "application/julia",
   "name": "julia",
   "version": "1.0.3"
  }
 },
 "nbformat": 4,
 "nbformat_minor": 2
}
