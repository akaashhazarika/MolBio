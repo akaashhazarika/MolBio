{
 "cells": [
  {
   "cell_type": "code",
   "execution_count": null,
   "metadata": {},
   "outputs": [],
   "source": []
  },
  {
   "cell_type": "code",
   "execution_count": 6,
   "metadata": {},
   "outputs": [
    {
     "data": {
      "text/plain": [
       "create_neighbours (generic function with 2 methods)"
      ]
     },
     "execution_count": 6,
     "metadata": {},
     "output_type": "execute_result"
    }
   ],
   "source": [
    "function create_neighbours(initial_string,infrequents = Set())\n",
    "    \"\"\"\n",
    "    Input_params:  \n",
    "    initial_string(str): An initial string, which is concatenated with 'A','C','T','G' to  create a bigger motif.\n",
    "    infrequents(Set): A set of infrequent motifs, that is used for pruning prefixes which are of low frequency. \n",
    "    \n",
    "    Returns\n",
    "    next_neighbours(str): A list of potential motifs, by extending the initial string. \n",
    "    \n",
    "    Example:\n",
    "    \n",
    "    create_neighbours(\"AC\",infrequents) :\n",
    "        if \"AC\" or any of its prefixes are not in the infrequent set:\n",
    "            returns  [\"ACA\",\"ACG\",\"ACC\",\"ACT\"]\n",
    "        else:\n",
    "            returns []\n",
    "    \"\"\"\n",
    "    next_neighbours  =  []  \n",
    "    flag = 1\n",
    "    for i in range(1,length(initial_string))\n",
    "        if initial_string[1:i] in infrequents\n",
    "            flag = 0\n",
    "            break\n",
    "        end\n",
    "    end\n",
    "    if flag==0\n",
    "       return [] \n",
    "    end\n",
    "    for next_chr in [\"A\",\"C\",\"T\",\"G\"]\n",
    "        next_initial_string = initial_string*next_chr\n",
    "        push!(next_neighbours,next_initial_string)\n",
    "    end\n",
    "    return next_neighbours\n",
    "end"
   ]
  },
  {
   "cell_type": "code",
   "execution_count": 7,
   "metadata": {},
   "outputs": [
    {
     "data": {
      "text/plain": [
       "calculate_hamming_distance (generic function with 1 method)"
      ]
     },
     "execution_count": 7,
     "metadata": {},
     "output_type": "execute_result"
    }
   ],
   "source": [
    "function branch_and_bound_helper(input_str,starting_mofits,goal,l,answers,infrequents = Set())\n",
    "    \"\"\"\n",
    "    Input_params:  \n",
    "    Input_str (list) : The input DNA sequence from which motifs are to be discovered\n",
    "    starting_motifs(list): The list of starting motifs that is used to create longer neighbours \n",
    "    goal(int): The hamming distance to be considered for the no of mismatches allowed\n",
    "    answers(list): The list of all possible motifs that is found by the program execution\n",
    "    infrequents(Set): A set of infrequent motifs, that is used for pruning prefixes which are of low frequency. \n",
    "    \n",
    "    \"\"\"\n",
    "    next_adjacent_neighbours = []\n",
    "    for next_neighbours in starting_mofits\n",
    "        v = create_neighbours(next_neighbours)\n",
    "        if length(v)!=0\n",
    "            push!(next_adjacent_neighbours,v)\n",
    "        end\n",
    "    end\n",
    "    next_adjacent_neighbours = [y for item in next_adjacent_neighbours for y in item]\n",
    "    new_motifs = []\n",
    "    for potential_motif in next_adjacent_neighbours\n",
    "        if is_motif_valid(input_str,potential_motif,goal)==false\n",
    "            push!(infrequents,potential_motif)\n",
    "        elseif  length(potential_motif)==l\n",
    "            push!(answers,potential_motif)\n",
    "        else\n",
    "            push!(new_motifs,potential_motif)       \n",
    "        end\n",
    "    end\n",
    "                \n",
    "    if length(next_adjacent_neighbours)>=1 && length(next_adjacent_neighbours[1]) < l\n",
    "        branch_and_bound_helper(input_str,new_motifs, goal, l, answers,infrequents)\n",
    "    end\n",
    "                \n",
    "                \n",
    "    return\n",
    "                \n",
    "end\n",
    "\n",
    "                \n",
    "function validate_by_hamming_distance(string, motif, goal )\n",
    "    string_motifs = get_all_substrings(string, length(motif))\n",
    "    for curr_motif in string_motifs\n",
    "        error =  calculate_hamming_distance(curr_motif, motif)\n",
    "        if error <= goal\n",
    "            return true\n",
    "        end\n",
    "    end\n",
    "    return false\n",
    "end\n",
    "\n",
    "\n",
    "function is_motif_valid(input_strings, motif, goal=1 )\n",
    "    for string in input_strings\n",
    "        if validate_by_hamming_distance(string, motif, goal) == false\n",
    "            return false\n",
    "        end\n",
    "    end\n",
    "    return true\n",
    "end\n",
    "\n",
    "            \n",
    "function get_all_substrings(string, l)\n",
    "    substrings = []\n",
    "    for start in 1:length(string)-l+1\n",
    "        push!(substrings, string[start:start+l-1])\n",
    "    end\n",
    "    return substrings\n",
    "end\n",
    "\n",
    "            \n",
    "function calculate_hamming_distance(string, motif)\n",
    "    error = 0\n",
    "    for i in 1:length(motif)\n",
    "        if string[i] != motif[i]\n",
    "            error += 1\n",
    "        end\n",
    "    end\n",
    "    return error\n",
    "end\n"
   ]
  },
  {
   "cell_type": "code",
   "execution_count": 9,
   "metadata": {},
   "outputs": [
    {
     "data": {
      "text/plain": [
       "branch_and_bound (generic function with 1 method)"
      ]
     },
     "execution_count": 9,
     "metadata": {},
     "output_type": "execute_result"
    }
   ],
   "source": [
    "function branch_and_bound(input_str,hamming_distance,motif_desired_length)\n",
    "   \"\"\" \n",
    "   Input params:\n",
    "   input_str(list) : The input DNA sequence from which motifs are to be calculated.\n",
    "   hamming_distance(int): The hamming distance allowed between the concensus string and the different motifs. \n",
    "   motif_desired_length(int): The size of motifs that is supposed to be calculated. \n",
    "    \n",
    "   Returns:\n",
    "   answers(list): The list of possible answers found for the particular configuration(hamming_distance,motif_desired_length)\n",
    "    \n",
    "   \"\"\"\n",
    "   starting_motifs = create_neighbours(\"\")\n",
    "   answers = []\n",
    "   branch_and_bound_helper(input_str,starting_motifs,hamming_distance,motif_desired_length,answers)\n",
    "   return answers\n",
    "    \n",
    "end\n",
    "\n"
   ]
  },
  {
   "cell_type": "code",
   "execution_count": 3,
   "metadata": {},
   "outputs": [
    {
     "data": {
      "text/plain": [
       "10-element Array{Any,1}:\n",
       " \"ATAAGTCGGGGTGTGGCGAACGCCCATTAAAAGGGAGAATGGCTAACAATGAAACCATTAATGCGTTTGAGTGGAAGCCGTCCACAAGCTCACGGCACGG\"\n",
       " \"AACGGCGTTCGGGCTGACCCTAGGCATGGCCGAGGACAAGCACGCCTATAATTTCGGCCCGCTAAATTACCAGTGCGCTCCGGGTAAGGGAAGAACCAAT\"\n",
       " \"GTGAACAAGACGCGCAGGCTTTAAGGGAGGAGTCAGTATAGTTCAAACCATCGCGGTCAAGTTACGATAGTAGCGTGAGACCCAGCTACGGCGCCAGCAG\"\n",
       " \"TTGACTGACCCTCTGTCAATATTTTGAGACAAGGACTCACCTATCAACCATAACATGGGATAACACGTAGCTCCGTAGAAAAGGGTACGCACGGCAATGA\"\n",
       " \"ATACTTGGGTCACAGGATCCAACAAGGCACGGCAAAGAACCAGTTAAGGGGCCTTTACCCTAGACGAAACGCCATCGATTCGAGGTTGCGTGAGTTAATT\"\n",
       " \"AAGGGGCGTCCACGATAACCAGAAGGACAAGGCCTAACCAGGTAAGTGACGGCGCAGGGTGATAGAGAATTAAAGGCCATCCGCCCCAGCGCCGTCCCTA\"\n",
       " \"TACACCCATGAAGCAACCACCGTATCCAACAGAGCTTTATTACAAGTCTCTTCCTTCGCTCGAACCTCCATCAGAGAAAGGGGTGTGTACGGCAAATAAG\"\n",
       " \"AGTGATTTCGTACGTACGGCGGTCGACAAGATGCAGCTTCTTGCGCTTATTAATTGAGTAGGGCTACGACCTATTCGTTTCGCAAGGGAAACCACGCGAT\"\n",
       " \"ACGTAAACCGCCCTACTTGGAAGGGGTGCCGCACTATCCATCGGCGGTTAGTCCTCGACTTTCCCAACAACCACTGAACGGCTACGGAGTACAAGACAGT\"\n",
       " \"CGGGTTAAGGGTACAACCATCGCACTAACGTTGTAGAATCTACTGTACAAGCATCTACGGCTGCCCCGTGCAAATGTGAGGTGTCCTGTAGTAACGAAAG\""
      ]
     },
     "execution_count": 3,
     "metadata": {},
     "output_type": "execute_result"
    }
   ],
   "source": [
    "using Random\n",
    "function create_artificial_sequence_with_motifs(n,l,motif_length,no_of_motifs,motifs)\n",
    "    \"\"\"\n",
    "    input_params:\n",
    "        n(int) The no of dna sequences to be generated\n",
    "        l(int) The length of each dna sequence\n",
    "        motif_length(int) The length of the motif to be implanted\n",
    "        no_of_motif(int) The no of motifs to be implanted in each dna\n",
    "        motifs(list): The list of motifs to be implanted in each dna sequence\n",
    "    \n",
    "    Returns:\n",
    "        r(list): The n*l dna sequences, having artificially implanted motifs in them. \n",
    "    \n",
    "    \"\"\"\n",
    "    results = []\n",
    "    arr = ['A','C','T','G']\n",
    "    r = []\n",
    "    for i in 1:n\n",
    "        results = []\n",
    "        for k in 1:l-motif_length*no_of_motifs\n",
    "            idx = rand(1:4) \n",
    "            push!(results,arr[idx])\n",
    "        end\n",
    "        results = join(results)\n",
    "        points = Set()\n",
    "        while length(points)!=no_of_motifs\n",
    "            idx = rand(1:length(results))\n",
    "            push!(points,idx)\n",
    "        end\n",
    "        sorted_coor = []\n",
    "        for elem in points\n",
    "            push!(sorted_coor,elem)\n",
    "        end\n",
    "        intial_points = sort(sorted_coor)\n",
    "        final_string = []\n",
    "        past = 1\n",
    "        temp = []\n",
    "        shuffle!(motifs)\n",
    "        for i in 1:no_of_motifs\n",
    "            starts = intial_points[i]\n",
    "            if past!=starts\n",
    "                push!(temp,results[past:starts-1])\n",
    "            end\n",
    "            push!(temp,motifs[i])\n",
    "            past = starts\n",
    "        end\n",
    "        if past<=length(results)\n",
    "            push!(temp,results[past:length(results)])\n",
    "        end\n",
    "        resulting_string = join(temp)\n",
    "        push!(r,resulting_string)\n",
    "    end\n",
    "    return r\n",
    " \n",
    "end\n",
    "\n",
    "\n",
    "input_strings = create_artificial_sequence_with_motifs(10,100,5,4,[\"ACAAG\",\"ACGGC\",\"AACCA\",\"AAGGG\"])"
   ]
  },
  {
   "cell_type": "code",
   "execution_count": 4,
   "metadata": {},
   "outputs": [
    {
     "name": "stdout",
     "output_type": "stream",
     "text": [
      "Any[\"GAAA\", \"TTGT\", \"CCAG\", \"AGTA\", \"GGGG\"]\n",
      "Any[\"TATTGTTTCTGCCAGAGGCTTTTTGCGTACAGGGGGGAACGATAAGGTGATTTCAAGTAAAGACAAATTGGAAACACTTCTGCTGTGATCTGTAAGCGCA\", \"GCCGTATCCAGGTCTGAGGGGGCAGTTGTGCTCTGGTTCCTCAAGGAAATCCAGTGCTGAGAGCTCAGTGTAGAATCGTTAGTAGTAGAGCGCCGTTTTA\", \"TAATATCTGAAAACTCAAGCGTGGAGTAAAGACCGGTGAAAAGGGCTTCCAGGGTTGGGGGCAGTTAAGTTTCCGCGGAGATAAGTTATTTGTTTGTTAT\", \"ACAGAGGTCCAGGGGAAAGCTTATACTTATTGTTTCGAATAGTCCTGAAATTAGTAACATCCACAGGGGAAATTGAGGTTTTTCATCAAAATCCGTCAAC\", \"GTTTATTCCTGGCCCACTAAGCGCTTTGTTCCAGGGTATATTTTAGGGGACCACGGAGAGACGCTTTCAGAAAAAACCGAGTAAGTCCCGCGGATAGAGC\", \"AGTACTATGAAACCCAAGTACAGAGCGAACGGCTCTTTCCAGGGTCAATATTGATTGTGGTGCATTCCAGGTTCCGGGGAGCGGGCTAGGACACAGCCGA\", \"TGCCCGCGGAAAGTAGGAAAGAACCCAGAGCGCAAGAAGAAGGTTTGCTAGCGTTAGCGCCACAAATGAACTTGTTGTAATCGGGGATGGTCGCTCATGT\", \"ACTGAATGTTGGAAAGGGCCAGATTATTCTCGGTTCTGAGGATCAAACTTTTGCATGACGCGTATACGTCGGAGAAGGGGGTTGTCTGATTGACAGTATA\", \"TTGTCCCGAGAAGCGCGTATACGCACTAGAATTGGGATTGTACACGCATTATGGACTAGTATCCAGCTACGAAAAAAGGGGTTTAGTCCTCAACGTTGGC\", \"TAGGGCCCTCGGAGGAAAACCTTGTTTCGCCTAGTTCACCAGGCTGGAGGATAAGACCGCGAGTCAGGTAACAAAGTAGAGGCGCCTGCTTGGGGGGCAT\"]\n"
     ]
    }
   ],
   "source": [
    "function create_motif(n,l)\n",
    "    arr = ['A','C','T','G']\n",
    "    motifs = []\n",
    "    for i in 1:n\n",
    "        temp = []\n",
    "        for k in 1:l\n",
    "            idx = rand(1:4) \n",
    "            push!(temp,arr[idx])\n",
    "        end\n",
    "        push!(motifs,join(temp))\n",
    "    end\n",
    "    return motifs  \n",
    "end\n",
    "\n",
    "function create_artificial_sequence(N,L,no_of_motifs,length_of_motifs)\n",
    "     motifs = create_motif(no_of_motifs,length_of_motifs)\n",
    "     sequence = create_artificial_sequence_with_motifs(N,L,length_of_motifs,no_of_motifs,motifs)\n",
    "     return motifs,sequence\n",
    "end\n",
    "\n",
    "implanted_motifs,sequences = create_artificial_sequence(10,100,5,4)\n",
    "print(implanted_motifs,\"\\n\")\n",
    "print(sequences,\"\\n\")"
   ]
  },
  {
   "cell_type": "code",
   "execution_count": 12,
   "metadata": {},
   "outputs": [
    {
     "name": "stdout",
     "output_type": "stream",
     "text": [
      "\u001b[32m\u001b[1m Resolving\u001b[22m\u001b[39m package versions...\n",
      "\u001b[32m\u001b[1m  Updating\u001b[22m\u001b[39m `~/.julia/Project.toml`\n",
      "\u001b[90m [no changes]\u001b[39m\n",
      "\u001b[32m\u001b[1m  Updating\u001b[22m\u001b[39m `~/.julia/Manifest.toml`\n",
      "\u001b[90m [no changes]\u001b[39m\n",
      "\u001b[32m\u001b[1m Resolving\u001b[22m\u001b[39m package versions...\n"
     ]
    },
    {
     "data": {
      "image/png": "[encoded data removed]",
      "text/plain": [
       "Figure(PyObject <Figure size 640x480 with 1 Axes>)"
      ]
     },
     "metadata": {},
     "output_type": "display_data"
    },
    {
     "name": "stdout",
     "output_type": "stream",
     "text": [
      "\u001b[32m\u001b[1m  Updating\u001b[22m\u001b[39m `~/.julia/Project.toml`\n",
      "\u001b[90m [no changes]\u001b[39m\n",
      "\u001b[32m\u001b[1m  Updating\u001b[22m\u001b[39m `~/.julia/Manifest.toml`\n",
      "\u001b[90m [no changes]\u001b[39m\n"
     ]
    },
    {
     "data": {
      "text/plain": [
       "1-element Array{PyCall.PyObject,1}:\n",
       " PyObject <matplotlib.lines.Line2D object at 0x7f99a50ebed0>"
      ]
     },
     "execution_count": 12,
     "metadata": {},
     "output_type": "execute_result"
    }
   ],
   "source": [
    "Pkg.add(\"TimerOutputs\") \n",
    "Pkg.add(\"PyPlot\")\n",
    "using PyPlot\n",
    "l,time = [],[]\n",
    "for i in 1:5\n",
    "    implanted_motifs,sequences = create_artificial_sequence(10,1000,5,10*i)\n",
    "    t = @elapsed branch_and_bound(sequences,0,4)\n",
    "    push!(time,t)\n",
    "    push!(l,i*10)\n",
    "end\n",
    "xlabel(\"Motif Length\")\n",
    "ylabel(\"Time Required\")\n",
    "PyPlot.title(\"Motif_length vs Time Required to Run\")\n",
    "plot(l, time,color=\"red\")\n"
   ]
  },
  {
   "cell_type": "code",
   "execution_count": null,
   "metadata": {},
   "outputs": [],
   "source": []
  }
 ],
 "metadata": {
  "kernelspec": {
   "display_name": "Julia 1.0.3 (4 threads)",
   "language": "julia",
   "name": "julia-1.0k"
  },
  "language_info": {
   "file_extension": ".jl",
   "mimetype": "application/julia",
   "name": "julia",
   "version": "1.0.3"
  }
 },
 "nbformat": 4,
 "nbformat_minor": 2
}
